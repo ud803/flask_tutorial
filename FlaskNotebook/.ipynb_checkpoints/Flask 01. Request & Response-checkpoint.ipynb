{
 "cells": [
  {
   "cell_type": "code",
   "execution_count": 2,
   "metadata": {},
   "outputs": [],
   "source": [
    "from flask import Flask, g, Response, make_response"
   ]
  },
  {
   "cell_type": "markdown",
   "metadata": {},
   "source": [
    "## 기초 구조"
   ]
  },
  {
   "cell_type": "markdown",
   "metadata": {},
   "source": [
    "Web Application 중 하나의 Context인 helloFlask라는 모듈은 `__init__.py`을 포함하고 있다.\n",
    "\n",
    "이는 `import`만 되어도 구동되는 파이썬 모듈의 중요 구성 요소이다. \n",
    "\n",
    "이때, 아래와 같이 `Flask` 클래스를 통해 `app`을 구성한다. Web App 단에서, 이 모듈을 임포트함으로써 메모리에 Flask가 구동되는 원리이다.\n",
    "\n",
    "구동 속도는 자바보다 훨씬 빠른데, 파이썬은 100% 인터프리터 언어이기 때문이다.\n",
    "\n",
    "실행시키면 lazy coding이라는 문구가 있는데, 모든 것을 메모리에 올리지는 않았다는 의미로 보면 된다.\n",
    "\n",
    "환경은 production과 development가 있다.\n",
    "\n",
    "WSGI는 Web Server Gateway Interface의 약어이다."
   ]
  },
  {
   "cell_type": "code",
   "execution_count": 3,
   "metadata": {},
   "outputs": [],
   "source": [
    "app = Flask(__name__)\n",
    "app.debug = True"
   ]
  },
  {
   "cell_type": "markdown",
   "metadata": {},
   "source": [
    "`route`는 `Request`가 왔을 때, 어떤 Model을 실행시켜야 할지 지정해주는 역할이다.\n",
    "\n",
    "아래의 예제에서, \"/res1\" 경로로 요청이 오면, 아래와 같이 `Response`를 보낸다.\n",
    "\n",
    "일반적으로 그냥 문자열을 리턴해도 되지만, `make_response` 메서드를 사용하면 상태코드와 추가적으로 헤더에 넣을 값들을 지정해 줄 수 있다."
   ]
  },
  {
   "cell_type": "code",
   "execution_count": 4,
   "metadata": {},
   "outputs": [],
   "source": [
    "@app.route(\"/\")\n",
    "def hello_world():\n",
    "    return \"Hello Flask World~!##\"\n",
    "\n",
    "@app.route(\"/res1\")\n",
    "def res1():\n",
    "    custom_res = Response(\"Custom Response\", 200, {'test' : 'ttt'})\n",
    "    return make_response(custom_res)"
   ]
  },
  {
   "cell_type": "markdown",
   "metadata": {},
   "source": [
    "아래는 `getattr` 함수인데, `g`라는 플라스크 글로벌 객체를 사용한다.\n",
    "\n",
    "웹앱에는 **Application Context**라는 공통 영역이 있다. 또한 **Session Context**의 브라우저(유저) 영역도 존재한다. \n",
    "\n",
    "여기서 `g`는 Application Context의 영역이며, 우리 서버에 접속하는 모든 사람에게 해당되는 변수라고 보면 된다.\n",
    "\n",
    "접속자 수, 방문자 수같은 값들을 이 영역에서 ++를 통해 표현하는 식의 응용이 가능하다."
   ]
  },
  {
   "cell_type": "code",
   "execution_count": 5,
   "metadata": {},
   "outputs": [],
   "source": [
    "@app.before_request\n",
    "def before_request():\n",
    "    print(\"before_request!!!\")\n",
    "    g.str = \"한글!!\"\n",
    "\n",
    "@app.route(\"/gg\")\n",
    "def hello_world_2():\n",
    "    return \"Hello Flask World\" + getattr(g, \"str\", \"111\")"
   ]
  },
  {
   "cell_type": "markdown",
   "metadata": {},
   "source": [
    "아래는 `application`이라는 함수의 값을 리턴한다.\n",
    "\n",
    "일단은 구조만 살펴보자."
   ]
  },
  {
   "cell_type": "code",
   "execution_count": 6,
   "metadata": {},
   "outputs": [],
   "source": [
    "@app.route(\"/test_wsgi\")\n",
    "def wsgi_test():\n",
    "    def application(environ, start_response):\n",
    "        body = \"The request method was {}\".format(environ[\"REQUEST_METHOD\"])\n",
    "        headers = [ ('Content-Type', 'text/plain'),\n",
    "                    ('Content-Length', str(len(body)))]\n",
    "        start_response('200 OK', headers)\n",
    "        return [body]\n",
    "\n",
    "    return make_response(application)"
   ]
  },
  {
   "cell_type": "markdown",
   "metadata": {},
   "source": [
    "<br>\n",
    "\n",
    "# 이벤트 핸들러"
   ]
  },
  {
   "cell_type": "markdown",
   "metadata": {},
   "source": [
    "`@app.before_first_request` : 사용자가 처음 리퀘스트를 보낼 때 무조건 실행\n",
    "\n",
    "`@app.before_request` : 리퀘스트를 보낼 때마다 실행. 라우터를 통하기 전 상태이다. euc-kr을 utf로 바꾸는 Web filter 작업 때 많이 사용했었다.\n",
    "\n",
    "`@app.after_request` : 리스폰스가 나가기 직전에 수행된다. DB에 매번 왔다갔다할 때 수반되어야 하는 공통 작업들을 수행한다.\n",
    "\n",
    "`@app.teardown_request` : 리스폰스가 다 나가고 나서 수행된다. 여기서 오류 처리를 한다.\n",
    "\n",
    "`@app.teardown_appcontext` : 앱 컨텍스트가 끝났을 때 수행된다."
   ]
  },
  {
   "cell_type": "markdown",
   "metadata": {},
   "source": [
    "<br>\n",
    "\n",
    "# 라우팅\n",
    "\n",
    "`@app.route('/test')`\n",
    "\n",
    "`@app.route('/test', methods=[ 'POST', 'PUT' ])` : 요청의 메서드가 POST, PUT일 때만 실행된다. GET일 경우 위의 일반 라우팅이 실행.\n",
    "\n",
    "`@app.route('/test/<tid>')` : 괄호 안의 `tid`에 해당하는 모든 주소에 대해 실행된다.\n",
    "\n",
    "`@app.route('/test', defaults={'page' : 'index'})\n",
    "@app.route('/test/<page>')` : 두 줄이 연결되어, 괄호 안의 `page` 값이 들어오지 않았을 때, 디폴트로 `index`라는 값을 주겠다는 의미이다.\n",
    "\n",
    "`@app.route('/test', host='abc.com')\n",
    "@app.route('/test', redirect_to='/new_test')` : 같은 **URI**라도 도메인에 따라 라우팅을 바꿔줄 수 있다.\n",
    "\n",
    "`@app.route(\"/\", subdomain=\"g\")` : 서브 도메인에 따라 실행되는 라우팅을 다르게 한다.\n",
    "\n",
    "ex) blog.naver.com, cafe.naver.com에서 blog와 cafe가 각각 서브도메인이다."
   ]
  },
  {
   "cell_type": "markdown",
   "metadata": {},
   "source": [
    "<br>\n",
    "\n",
    "# 리퀘스트 파라미터\n",
    "\n",
    "요청 파라미터는 멀티딕셔너리 타입이다.\n",
    "\n",
    "`...get('<param name>', 'default-value'>, <type>)`\n",
    "\n",
    "methods : get, getlist, clear, etc\n"
   ]
  },
  {
   "cell_type": "code",
   "execution_count": 7,
   "metadata": {},
   "outputs": [],
   "source": [
    "## GET\n",
    "# /rp?q=123 의 주소로 들어가면, q의 값은 123이 된다.\n",
    "@app.route(\"/rp\")\n",
    "def rp():\n",
    "    q = request.args.get('q')\n",
    "    return \"q=%s\" % str(q)"
   ]
  },
  {
   "cell_type": "code",
   "execution_count": 8,
   "metadata": {},
   "outputs": [],
   "source": [
    "## POST\n",
    "# post는 form 함수를 사용한다. 두번째 인자는 첫 번째 인자가 없을 경우의 default 값이다.\n",
    "def post():\n",
    "    request.form.get('p', 123)"
   ]
  },
  {
   "cell_type": "code",
   "execution_count": 9,
   "metadata": {},
   "outputs": [],
   "source": [
    "## GET OR POST\n",
    "# 둘 다에서 사용할 수 있는 values가 있다.\n",
    "def get_post():\n",
    "    request.values.get('v')"
   ]
  },
  {
   "cell_type": "code",
   "execution_count": 10,
   "metadata": {},
   "outputs": [],
   "source": [
    "## Parameters\n",
    "# List 형태로 모든 인자를 받는다. 다중선택을 할 때 유용하다.\n",
    "def parameters():\n",
    "    request.args.getlist('qs')"
   ]
  },
  {
   "cell_type": "markdown",
   "metadata": {},
   "source": [
    "날짜를 주고받는 예제를 하나 살펴보자.\n",
    "\n",
    "아래 `request.values.get`에서, type에 들어가는 함수의 인자는 `date` 파라미터가 된다.\n",
    "\n",
    "웹의 특성상 메모리를 절약하기 위해 함수 속에 함수를 포함하였다."
   ]
  },
  {
   "cell_type": "code",
   "execution_count": 11,
   "metadata": {},
   "outputs": [],
   "source": [
    "from datetime import datetime, date\n",
    "\n",
    "def ymd(fmt):\n",
    "    def trans(date_str):\n",
    "        return datetime.strptime(date_str, fmt)\n",
    "    return trans\n",
    "\n",
    "@app.route(\"/dt\")\n",
    "def dt():\n",
    "    datestr = request.values.get('date', date.today(), type=ymd('%Y-%m-%d'))\n",
    "    return \"우리나라 시간 형식: %s\" % str(datestr)"
   ]
  },
  {
   "cell_type": "markdown",
   "metadata": {},
   "source": [
    "- `request.environ` : 요청에 대한 환경변수이다.\n",
    "- `request.is_xhr` : AJAX로 호출했다는 것을 알 수 있다.\n",
    "- `request.endpoint` : 라우터의 엔드포인트, URI를 의미한다.\n",
    "- `request.get_json()` : 클라이언트가 보낸 data를 받을 때 사용한다. (ajax에 대한 것)\n",
    "\n",
    "<br>\n",
    "\n",
    "# 리스폰스\n",
    "\n",
    "클라이언트에게 내려주기 위한 값들이다.\n",
    "\n",
    "`headers`, `status`, `status_code`, `data`, `mimetype`으로 구성된다.\n",
    "\n",
    "### Cookie\n",
    "\n",
    "이 중에는 쿠키도 있는데, 쿠키도 하나의 클래스이다. (`__init__.py`가 있다!)\n",
    "\n",
    "`key`, `value`, `max_age`, `expires`, `domain`, `path`로 구성된다.\n",
    "\n",
    "`max_age` : TTL, 만료 기간을 나타낸다.\n",
    "\n",
    "`expires` : 만료되는 특정 시간을 나타낸다.\n",
    "\n",
    "`domain` : 앞의 subdomain에 상관없이 domain 아래의 값들을 지칭한다. (cafe.naver.com과 blog.naver.com의 쿠키는 같은 것이 된다.)\n",
    "\n",
    "자동 로그인 같은 경우, 서버가 정보를 알아야하기 때문에 클라이언트에서 값들을 리퀘스트로 보낸다.\n",
    "\n",
    "하지만, 단순한 아이디 저장같은 경우, 브라우저의 로컬 스토리지를 사용하면 된다. (쿠키를 쓰면 네트워크 낭비)"
   ]
  },
  {
   "cell_type": "raw",
   "metadata": {},
   "source": [
    "res = Response(\"Test\")\n",
    "res.set_cookie(\"UserToken\", \"A12Bc9\")\n",
    "\n",
    "# Request\n",
    "request.cookies.get(\"UserToken\", \"default token\")"
   ]
  },
  {
   "cell_type": "code",
   "execution_count": 14,
   "metadata": {},
   "outputs": [],
   "source": [
    "## 연습문제 1.\n",
    "# 다음 형태로 요청했을때 해당 key로 Cookie를 굽는 코드를 작성하시오.\n",
    "# http://localhost:5000/wc?key=token&val=abc\n",
    "@app.route(\"/wc\")\n",
    "def wc():\n",
    "    key = request.values.get('key', None)\n",
    "    val = request.values.get('val', None)\n",
    "    res = Response(\"SET COOKIE\")\n",
    "    res.set_cookie(key, val)\n",
    "    return make_response(res)"
   ]
  },
  {
   "cell_type": "code",
   "execution_count": 15,
   "metadata": {},
   "outputs": [],
   "source": [
    "## 연습문제 2.\n",
    "# 다음 형태로 요청했을때 해당 key의 Cookie Value를 출력하는 코드를 작성하시오.\n",
    "# http://localhost:5000/rc?key=token\n",
    "@app.route(\"/rc\")\n",
    "def rc():\n",
    "    key = request.values.get('key', None)\n",
    "    val = request.cookies.get(key)\n",
    "    return \"cookie[{}] = {}\".format(key, val)"
   ]
  },
  {
   "cell_type": "markdown",
   "metadata": {},
   "source": [
    "<br>\n",
    "\n",
    "# Session\n",
    "\n",
    "cookie는 클라이언트에 내려가 있고, 나에게 알려주는 것이다.\n",
    "\n",
    "Session은 서버 메모리에 떠있는 객체이다. Session Context에 속하고, 서버에 있기 때문에 어떤 정보를 담든 상관이 없다.\n",
    "\n",
    "10명이 접속하면 세션이 10개가 되는 셈이다. 보통 로그인 정보를 담을 때 쓴다.\n",
    "\n",
    "로그인의 간단한 과정은 아래와 같다.\n",
    "\n",
    "- 유저가 id와 pw를 담아서 request를 보낸다. \n",
    "- 이때, GET이 아닌 POST에 담아서 보내야 한다. (원칙임)\n",
    "- Flask 서버가 requests.form의 값들을 받는다.\n",
    "- DB의 User Table에서 id를 매칭해야 하는데, 바로 매칭하면 개인정보 보호법 위반이 된다.\n",
    "    - PW는 무조건 암호화된 값을 사용한다. (SSH 256 이상으로 해시 구성해야함, 단방향 암호화, 복호화 안되는)\n",
    "    - 주민번호, 계좌번호는 양방향 암호화까지 허용\n",
    "- DB에 유저가 있으면, 쿠키에 로그인이 잘 되었다고 알려준다. 약속된 key값을 쿠키로 내려준다.\n",
    "    - 다음에 요청이 들어올 때는 이 cookie 값이 있으니까 바로 유저로 인식하면 될까?\n",
    "    - 아니다, 쿠키값은 공개가 되고, 조작이 가능하다. (헤더에 강제로 심으면 된다.)\n",
    "    - 그래서 사용하는 정보가 세션이다. X라는 세션에 해당하는 key, val 을 지정해두면 된다.\n",
    "- 최종적으로 세션과, 그에 해당하는 키, 값을 비교해서 매칭한다.\n",
    "- 서버가 한 대인 경우, 메모리에서 관리하면 되고, 여러 대인 경우 DB나 Redis, File(NFS 방식)에 저장해두고 쓴다.\n",
    "- 최근 방식은 Redis이다.\n",
    "    - node.js / flask / .NET 등 여러 서버 타입으로 구성되었을 때\n",
    "    - Redis는 네트워킹이 되는 메모리 DB이다. \n",
    "    - 장바구니에 물건을 담았을 때, 모두 공유가 되는 방식"
   ]
  },
  {
   "cell_type": "markdown",
   "metadata": {},
   "source": [
    "아래 코드에서, Session Cookie의 이름은 `pyweb...`이 되고, 그것을 암호화하는 키가 `SECRET_KEY`가 된다.\n",
    "\n",
    "그리고 이 세션은 31일 동안 유지가 된다."
   ]
  },
  {
   "cell_type": "raw",
   "metadata": {},
   "source": [
    "app.config.update(\n",
    "    SECRET_KEY='X1234',\n",
    "    SESSION_COOKIE_NAME='pyweb_flask_session',\n",
    "    PERMANENT_SESSION_LIFETIME=timedelta(31)\n",
    ")"
   ]
  },
  {
   "cell_type": "code",
   "execution_count": 16,
   "metadata": {},
   "outputs": [],
   "source": [
    "# Login\n",
    "@app.route(\"/setsess\")\n",
    "def setsess():\n",
    "    session[\"Token\"] = \"123X\"\n",
    "    return \"Session이 설정되었습니다!\"\n",
    "\n",
    "@app.route(\"/getsess\")\n",
    "def getsess():\n",
    "    return session.get(\"Token\")\n",
    "\n",
    "# Logout\n",
    "@app.route(\"/delsess\")\n",
    "def delsess():\n",
    "    if session.get(\"Token\"):\n",
    "        del session[\"Token\"]\n",
    "    return \"Session이 삭제되었습니다!\""
   ]
  },
  {
   "cell_type": "code",
   "execution_count": null,
   "metadata": {},
   "outputs": [],
   "source": []
  }
 ],
 "metadata": {
  "kernelspec": {
   "display_name": "Python 3",
   "language": "python",
   "name": "python3"
  },
  "language_info": {
   "codemirror_mode": {
    "name": "ipython",
    "version": 3
   },
   "file_extension": ".py",
   "mimetype": "text/x-python",
   "name": "python",
   "nbconvert_exporter": "python",
   "pygments_lexer": "ipython3",
   "version": "3.7.5"
  }
 },
 "nbformat": 4,
 "nbformat_minor": 4
}
