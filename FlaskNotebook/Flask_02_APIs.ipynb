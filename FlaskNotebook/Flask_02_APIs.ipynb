{
 "cells": [
  {
   "cell_type": "markdown",
   "metadata": {},
   "source": [
    "# Implementing Our API\n",
    "\n",
    "https://programminghistorian.org/en/lessons/creating-apis-with-python-and-flask\n",
    "\n",
    "### Prototype API\n",
    "\n",
    "파이썬과 플라스크 웹프레임워크를 사용해 프로토타입 API를 만들어보자. \n",
    "\n",
    "---\n",
    "\n",
    "**Tip. 플라스크가 하는 역할**\n",
    "\n",
    "플라스크는 HTTP 리퀘스트를 파이썬 함수로 맵핑해준다. 예를 들어, 경로(`/`)는 `home`이라는 함수로 맵핑된다.\n",
    "\n",
    "`http://127.0.0.1:5000/` 플라스크 서버에 연결하면, 플라슼는 주어진 경로와 함수 사이의 매칭을 찾는다. \n",
    "\n",
    "이렇게 URL을 함수에 맵핑하는 과정을 **routing**이라고 한다.\n",
    "\n",
    "---\n",
    "\n",
    "여기서 데이터는 아래와 같은 파이썬 딕셔너리의 리스트 형태로 제공할 것이다."
   ]
  },
  {
   "cell_type": "code",
   "execution_count": 6,
   "metadata": {},
   "outputs": [],
   "source": [
    "from flask import Flask, g, request, Response, make_response, jsonify\n",
    "\n",
    "app = Flask(__name__)\n",
    "app.debug = True"
   ]
  },
  {
   "cell_type": "code",
   "execution_count": 7,
   "metadata": {},
   "outputs": [],
   "source": [
    "books = [\n",
    "    {'id': 0,\n",
    "     'title': 'A Fire Upon the Deep',\n",
    "     'author': 'Vernor Vinge',\n",
    "     'first_sentence': 'The coldsleep itself was dreamless.',\n",
    "     'year_published': '1992'},\n",
    "    {'id': 1,\n",
    "     'title': 'The Ones Who Walk Away From Omelas',\n",
    "     'author': 'Ursula K. Le Guin',\n",
    "     'first_sentence': 'With a clamor of bells that set the swallows soaring, the Festival of Summer came to the city Omelas, bright-towered by the sea.',\n",
    "     'published': '1973'},\n",
    "    {'id': 2,\n",
    "     'title': 'Dhalgren',\n",
    "     'author': 'Samuel R. Delany',\n",
    "     'first_sentence': 'to wound the autumnal city.',\n",
    "     'published': '1975'}\n",
    "]"
   ]
  },
  {
   "cell_type": "markdown",
   "metadata": {},
   "source": [
    "아래의 `jsonify` 함수는 리스트와 딕셔너리를 JSON 타입으로 바꿔준다. "
   ]
  },
  {
   "cell_type": "code",
   "execution_count": 8,
   "metadata": {},
   "outputs": [],
   "source": [
    "@app.route('/', methods=['GET'])\n",
    "def home():\n",
    "    return '''<h1>Distant Reading Archive</h1>\n",
    "<p>A prototype API for distant reading of science fiction novels.</p>'''\n",
    "\n",
    "\n",
    "# A route to return all of the available entries in our catalog.\n",
    "@app.route('/api/v1/resources/books/all', methods=['GET'])\n",
    "def api_all():\n",
    "    return jsonify(books)"
   ]
  },
  {
   "cell_type": "markdown",
   "metadata": {},
   "source": [
    "지금 구현된 상태로는, 사용자들은 전체 DB밖에 볼 수 없다.\n",
    "\n",
    "특정한 리소스를 필터링해서 볼 수 없기 때문에, 데이터가 늘어날수록 사용자들의 불편이 늘어날 것이다."
   ]
  },
  {
   "cell_type": "code",
   "execution_count": 9,
   "metadata": {},
   "outputs": [],
   "source": [
    "@app.route('/api/v1/resources/books', methods=['GET'])\n",
    "def api_id():\n",
    "    # Check if an ID was provided as part of the URL.\n",
    "    # If ID is provided, assign it to a variable.\n",
    "    # If no ID is provided, display an error in the browser.\n",
    "    if 'id' in request.args:\n",
    "        id = int(request.args['id'])\n",
    "    else:\n",
    "        return \"Error: No id field provided. Please specify an id.\"\n",
    "\n",
    "    # Create an empty list for our results\n",
    "    results = []\n",
    "\n",
    "    # Loop through the data and match results that fit the requested ID.\n",
    "    # IDs are unique, but other fields might return many results\n",
    "    for book in books:\n",
    "        if book['id'] == id:\n",
    "            results.append(book)\n",
    "\n",
    "    # Use the jsonify function from Flask to convert our list of\n",
    "    # Python dictionaries to the JSON format.\n",
    "    return jsonify(results)"
   ]
  },
  {
   "cell_type": "markdown",
   "metadata": {},
   "source": [
    "---\n",
    "\n",
    "**Tip. Designing Principles**\n",
    "\n",
    "몇가지 주의사항이 있다.\n",
    "\n",
    "`http://api.example.com/getbook/10`\n",
    "\n",
    "위 URL에서, REST API의 4가지 기초 메서드에 해당하는 `GET`이 들어가는 것은 좋지 않다.\n",
    "\n",
    "<br>\n",
    "\n",
    "또한, 리소스의 컬렉션 (books, users)는 복수형으로 쓰여야 한다. 그렇게 해야 API가 컬렉션을 가르키는지, 엔트리를 가리키는지 명확해진다. 아래가 그 예시이다.\n",
    "\n",
    "`http://api.example.com/books/10`\n",
    "\n",
    "<br>\n",
    "\n",
    "여전히, 위 방식은 유연하지 못하다. 한 번에 하나의 필드만 필터링을 할 수 있기 때문이다. 쿼리 파라미터를 사용해 여러 데이터베이스 필드로 필터링하도록 해준다.\n",
    "\n",
    "`http://api.example.com/books?author=Ursula+K. +Le Guin&published=1969&output=xml`\n",
    "\n",
    "<br>\n",
    "또한 API를 설계할 때, 나중의 기능들을 고려하는 게 좋다.\n",
    "\n",
    "현재 버전의 API가 리소스 중 `books`만 가지고 있다고 하더라도, 다른 리소스나, 리소스가 아닌 기능들이 추가될 여지를 남겨두어야 한다.\n",
    "\n",
    "`http://api.example.com/resources/books?id=10`\n",
    "\n",
    "<br>\n",
    "마지막으로, API의 버전을 경로에 추가하는 것이 좋다. 만약 API를 다시 설계해야 할 일이 올 때, 두 번째 버전을 릴리즈 하면서, 첫 번째 버전도 계속해서 지원하는 식으로 이어갈 수 있다. 이렇게 하면 업그레이드하여도 기존 버전을 쓰던 프로그램에도 오류가 발생하지 않는다.\n",
    "\n",
    "`http://api.example.com/v1/resources/books?id=10`\n"
   ]
  },
  {
   "cell_type": "markdown",
   "metadata": {},
   "source": [
    "<br>\n",
    "\n",
    "### Connecting Our API to a Database\n",
    "\n",
    "여기서는 데이터베이스에서 데이터를 끌어오고, 에러 핸들링을 하고, 출판일자로 책을 필터링하는 방법들을 알아보자.\n",
    "\n",
    "파이썬에서 기본으로 제공하는 SQLite DB를 사용했다. SQLite은 보통 `.db` 확장자로 끝난다.\n",
    "\n",
    "여기서는 [books.db](https://programminghistorian.org/assets/creating-apis-with-python-and-flask/books.db) 파일을 활용한다.\n"
   ]
  },
  {
   "cell_type": "markdown",
   "metadata": {},
   "source": [
    "아래서 `dict_factory`는 기존 `row_factory`를 오버라이드하는 역할을 한다.\n",
    "\n",
    "리스트를 딕셔너리로 바꿔준다고 생각하면 된다."
   ]
  },
  {
   "cell_type": "code",
   "execution_count": 11,
   "metadata": {},
   "outputs": [],
   "source": [
    "def dict_factory(cursor, row):\n",
    "    d = {}\n",
    "    for idx, col in enumerate(cursor.description):\n",
    "        d[col[0]] = row[idx]\n",
    "    return d"
   ]
  },
  {
   "cell_type": "markdown",
   "metadata": {},
   "source": [
    "이번에는 `sqlite3`에 접속해서, 모든 책들을 불러오는 것으로 바뀌었다.\n",
    "\n",
    "쿼리를 날려 json 형태로 바꾸어 리턴한다."
   ]
  },
  {
   "cell_type": "code",
   "execution_count": 14,
   "metadata": {},
   "outputs": [],
   "source": [
    "@app.route('/api/v1/resources/books/all', methods=['GET'])\n",
    "def api_all_db():\n",
    "    conn = sqlite3.connect('books.db')\n",
    "    conn.row_factory = dict_factory\n",
    "    cur = conn.cursor()\n",
    "    all_books = cur.execute('SELECT * FROM books;').fetchall()\n",
    "\n",
    "    return jsonify(all_books)"
   ]
  },
  {
   "cell_type": "markdown",
   "metadata": {},
   "source": [
    "이번에는 `id`, `published`, `author`에 관한 쿼리 파라미터들을 받아서,\n",
    "\n",
    "**존재하는 경우** WHERE 구문에 추가하여 `sqlite3`에 쿼리를 날린다."
   ]
  },
  {
   "cell_type": "code",
   "execution_count": 15,
   "metadata": {},
   "outputs": [],
   "source": [
    "@app.route('/api/v1/resources/books', methods=['GET'])\n",
    "def api_filter_db():\n",
    "    query_parameters = request.args\n",
    "\n",
    "    id = query_parameters.get('id')\n",
    "    published = query_parameters.get('published')\n",
    "    author = query_parameters.get('author')\n",
    "\n",
    "    query = \"SELECT * FROM books WHERE\"\n",
    "    to_filter = []\n",
    "\n",
    "    if id:\n",
    "        query += ' id=? AND'\n",
    "        to_filter.append(id)\n",
    "    if published:\n",
    "        query += ' published=? AND'\n",
    "        to_filter.append(published)\n",
    "    if author:\n",
    "        query += ' author=? AND'\n",
    "        to_filter.append(author)\n",
    "    if not (id or published or author):\n",
    "        return page_not_found(404)\n",
    "\n",
    "    query = query[:-4] + ';'\n",
    "\n",
    "    conn = sqlite3.connect('books.db')\n",
    "    conn.row_factory = dict_factory\n",
    "    cur = conn.cursor()\n",
    "\n",
    "    results = cur.execute(query, to_filter).fetchall()\n",
    "\n",
    "    return jsonify(results)"
   ]
  },
  {
   "cell_type": "markdown",
   "metadata": {},
   "source": [
    "404 페이지가 뜰 경우 예외처리를 해주는 페이지이다."
   ]
  },
  {
   "cell_type": "code",
   "execution_count": 16,
   "metadata": {},
   "outputs": [],
   "source": [
    "@app.errorhandler(404)\n",
    "def page_not_found(e):\n",
    "    return \"<h1>404</h1><p>The resource could not be found.</p>\", 404"
   ]
  },
  {
   "cell_type": "markdown",
   "metadata": {},
   "source": [
    "<br>\n",
    "\n",
    "이런 식으로 API 작업을 해주면 된다."
   ]
  }
 ],
 "metadata": {
  "kernelspec": {
   "display_name": "Python 3",
   "language": "python",
   "name": "python3"
  },
  "language_info": {
   "codemirror_mode": {
    "name": "ipython",
    "version": 3
   },
   "file_extension": ".py",
   "mimetype": "text/x-python",
   "name": "python",
   "nbconvert_exporter": "python",
   "pygments_lexer": "ipython3",
   "version": "3.7.5"
  }
 },
 "nbformat": 4,
 "nbformat_minor": 4
}
