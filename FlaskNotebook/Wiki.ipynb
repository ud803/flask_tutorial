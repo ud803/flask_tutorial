{
 "cells": [
  {
   "cell_type": "markdown",
   "metadata": {},
   "source": [
    "- 하나의 서버 안에서도, 여러 개의 Context를 구성할 수 있다. 여기서 Context란 별도의 도메인을 갖는 하나의 서비스라고 이해하면 된다. 이러한 Context들이 모여 Web Application을 구성한다.\n",
    "\n",
    "- 브라우저에서 요청이 오는 것을 request라고 한다. 이 request가 Web Server에 resource를 요청하는 것이다. 여기서, Web Server는 HTML만을 서비스하는 것이고, 프로그램이 동적으로 도는 것이 아니다. Web \"Application\" Server가 동적으로 돌아가는 것이고, 이 엔진이 장고나 플라스크인 것이다. 따라서 지금 만드려는 서비스는 Web App Server라고 부르는 것이 적절하다.\n",
    "\n",
    "- Context 폴더의 구성(ex. helloflask)\n",
    "    - **static**\n",
    "        - 연산이 이루어지고 나가는 것을 Application이라고 하고, 이미지나 CSS, JS등 별도의 처리 없이 나가는 것들은 모두 **Static**이라고 부른다. (그리고 Static 폴더 안에 존재한다.)\n",
    "    - **templates**\n",
    "        - templates는 HTML들이 존재하는 영역이다. 순수한 HTML은 아니고, 특정한 템플릿을 만들어두면 프로그램이 돌아서 HTML로 렌더링해주는 셈이다.\n",
    "        - 여기서는 base.html 또는 application.html, layout.html로 기본 파일을 만든다.\n",
    "    - _ _ init _ _.py\n",
    "        - 웹앱을 구동하는 시작 지점\n",
    "        - 모듈에서도 import하는 순간 자동으로 구동된다.\n",
    "    - start_flask.py\n",
    "        - init.py를 구동하는 명령어\n",
    "        - 그래서 import만 해서 run하면 된다.\n",
    "\n",
    "- Route\n",
    "    - a.html, b.html 등의 주소를 URI라고 하는데, 이 URI를 정의하는 녀석을 Router라고 한다.\n",
    "        - 웹이든 앱이든 MVC, MVVR의 패턴을 사용한다.\n",
    "        - MVC : Model, View, Controller(Route)\n",
    "        - MVVR : Model, V, V, Router\n",
    "        - V는 Template의 개념, Model은 객체, 사용자\n",
    "            - user라는 객체 Object가\n",
    "                - method와 attribute을 가진다\n",
    "                - method : login()\n",
    "                - attribute : 이름 , name\n",
    "    - Request가 왔을 때, Route가 어떤 Model을 실행시켜야 할지 안다.\n",
    "        - 만약 로그인 요청이 오면, user라는 Model에 id/pw를 전달한다.\n",
    "        - login(id, pw) 함수를 통해 DB에서 찾아서 세션에 정보를 받는다.\n",
    "        - 쿠키에 정보를 내려주면, 유저는 그 쿠키를 계속 쓸 수 있다.\n",
    "        - 로그인 성공 / 실패등의 HTML, JSON이 내려가는 화면을 **View**라고 한다.\n",
    "    - 가장 Root가 \"/\"가 된다.\n",
    "- Flask의 구조\n",
    "    - 플라스크는 Memory와 Process로 떠있다.\n",
    "    - 요청을 Port를 통해서 받고, 해당 포트를 계속 보고있다. (default : 5000)\n",
    "    - 메모리에 Flask를 구동시키는 녀석이 start_helloFlask가 된다.\n",
    "    - 여기서 **init**의 app을 import 한다.\n",
    "    - host는 0.0.0.0인데 이 녀석은 127.0.0.1이다. (localhost)\n",
    "    - 이제 run파일을 실행시키면 바로 로딩이 되는데, 이는 자바보다 훨씬 빠르다. (100% 인터프리터 언어이기 때문이다.)\n",
    "    - 또한 lazy loading이라는 문구가 있는데, 모든 것을 메모리에 올리지는 않았다는 의미로 보면 된다.\n",
    "    - 환경은 production과 development가 있다.\n",
    "    - Use a production WSGI server instead.\n",
    "        - Web Server Gateway Interface : 5000번 포트에 WSGI가 대기하고 있는 것\n",
    "        - 포트를 없애려면 80번으로 하면 된다.\n",
    "        \n",
    "- 글로벌 오브젝트\n",
    "    - g라는 플라스크 객체가 있다.\n",
    "    - app.debug = True로 하면 더 자세한 오류를 보여준다.\n",
    "    - 웹앱에는 Application Context라는 공통 영역이 있다.\n",
    "        - Session Context는 한 유저가 할당되는 세션이다. 이는 브라우저 기준이다.\n",
    "        - g는 Application Context의 영역이며, 우리 서버에 접속하는 모든 사람에게 해당된다.\n",
    "        - 접속자 수, 방문자 수라든지 ++를 통해 표현할 수도 있다.\n",
    "- Request / Response\n",
    "    - 함수에서 보냈던 return 값들은 모두 Response에 나가는 값들이다.\n",
    "    - Response는 그냥 문자열도 가능한데, 정석대로 한다면 Response클래스를 사용하면 된다."
   ]
  }
 ],
 "metadata": {
  "kernelspec": {
   "display_name": "Python 3",
   "language": "python",
   "name": "python3"
  },
  "language_info": {
   "codemirror_mode": {
    "name": "ipython",
    "version": 3
   },
   "file_extension": ".py",
   "mimetype": "text/x-python",
   "name": "python",
   "nbconvert_exporter": "python",
   "pygments_lexer": "ipython3",
   "version": "3.6.8"
  }
 },
 "nbformat": 4,
 "nbformat_minor": 2
}
